{
  "nbformat": 4,
  "nbformat_minor": 0,
  "metadata": {
    "colab": {
      "provenance": []
    },
    "kernelspec": {
      "name": "python3",
      "display_name": "Python 3"
    },
    "language_info": {
      "name": "python"
    },
    "accelerator": "GPU",
    "gpuClass": "standard"
  },
  "cells": [
    {
      "cell_type": "code",
      "execution_count": 1,
      "metadata": {
        "id": "c39o2ywTFB1b"
      },
      "outputs": [],
      "source": [
        "from torch import nn\n",
        "import torch\n",
        "import numpy as np\n",
        "import pandas as pd\n",
        "import matplotlib.pyplot as plt\n",
        "\n",
        "import pickle, time\n",
        "import re, os, string, typing, gc, json\n",
        "import torch.nn.functional as F\n",
        "import spacy\n",
        "from sklearn.model_selection import train_test_split\n",
        "from collections import Counter\n",
        "nlp = spacy.load('en_core_web_sm')"
      ]
    },
    {
      "cell_type": "code",
      "source": [
        "import torch.optim as optim\n",
        "from torch.autograd import Variable\n",
        "import json"
      ],
      "metadata": {
        "id": "AO1mSld-Fp8B"
      },
      "execution_count": 2,
      "outputs": []
    },
    {
      "cell_type": "code",
      "source": [
        "!pip install tensorboardX"
      ],
      "metadata": {
        "colab": {
          "base_uri": "https://localhost:8080/"
        },
        "id": "c5iTozBAFp-f",
        "outputId": "2f657dd5-15ff-4838-fae6-3ba9c60d5d1f"
      },
      "execution_count": 3,
      "outputs": [
        {
          "output_type": "stream",
          "name": "stdout",
          "text": [
            "Looking in indexes: https://pypi.org/simple, https://us-python.pkg.dev/colab-wheels/public/simple/\n",
            "Collecting tensorboardX\n",
            "  Downloading tensorboardX-2.5.1-py2.py3-none-any.whl (125 kB)\n",
            "\u001b[2K     \u001b[90m━━━━━━━━━━━━━━━━━━━━━━━━━━━━━━━━━━━━━━\u001b[0m \u001b[32m125.4/125.4 KB\u001b[0m \u001b[31m15.9 MB/s\u001b[0m eta \u001b[36m0:00:00\u001b[0m\n",
            "\u001b[?25hRequirement already satisfied: numpy in /usr/local/lib/python3.8/dist-packages (from tensorboardX) (1.21.6)\n",
            "Requirement already satisfied: protobuf<=3.20.1,>=3.8.0 in /usr/local/lib/python3.8/dist-packages (from tensorboardX) (3.19.6)\n",
            "Installing collected packages: tensorboardX\n",
            "Successfully installed tensorboardX-2.5.1\n"
          ]
        }
      ]
    },
    {
      "cell_type": "code",
      "source": [
        "def load_json(path):\n",
        "    '''\n",
        "    Loads the JSON file of the Squad dataset.\n",
        "    Returns the json object of the dataset.\n",
        "    '''\n",
        "    with open(path, 'r', encoding='utf-8') as f:\n",
        "        data = json.load(f)\n",
        "        \n",
        "    print(\"Length of data: \", len(data['data']))\n",
        "    print(\"Data Keys: \", data['data'][0].keys())\n",
        "    print(\"Title: \", data['data'][0]['title'])\n",
        "    \n",
        "    return data\n"
      ],
      "metadata": {
        "id": "3iZa8Ni3FqA3"
      },
      "execution_count": 4,
      "outputs": []
    },
    {
      "cell_type": "code",
      "source": [
        "def parse_data(data:dict)->list:\n",
        "    '''\n",
        "    Parses the JSON file of Squad dataset by looping through the\n",
        "    keys and values and returns a list of dictionaries with\n",
        "    context, query and label triplets being the keys of each dict.\n",
        "    '''\n",
        "    data = data['data']\n",
        "    qa_list = []\n",
        "\n",
        "    for paragraphs in data:\n",
        "\n",
        "        for para in paragraphs['paragraphs']:\n",
        "            context = para['context']\n",
        "\n",
        "            for qa in para['qas']:\n",
        "                \n",
        "                id = qa['id']\n",
        "                question = qa['question']\n",
        "                \n",
        "                for ans in qa['answers']:\n",
        "                    answer = ans['text']\n",
        "                    ans_start = ans['answer_start']\n",
        "                    ans_end = ans_start + len(answer)\n",
        "                    \n",
        "                    qa_dict = {}\n",
        "                    qa_dict['id'] = id\n",
        "                    qa_dict['context'] = context\n",
        "                    qa_dict['question'] = question\n",
        "                    qa_dict['label'] = [ans_start, ans_end]\n",
        "\n",
        "                    qa_dict['answer'] = answer\n",
        "                    qa_list.append(qa_dict)    \n",
        "\n",
        "    \n",
        "    return qa_list"
      ],
      "metadata": {
        "id": "MAsSA8PpF-TB"
      },
      "execution_count": 5,
      "outputs": []
    },
    {
      "cell_type": "code",
      "source": [
        "# load dataset json files\n",
        "\n",
        "train_data = load_json('/content/drive/MyDrive/NLP_hackathon/Squad_Data/squad_train.json')\n",
        "valid_data = load_json('/content/drive/MyDrive/NLP_hackathon/Squad_Data/squad_dev.json')\n",
        "\n",
        "# parse the json structure to return the data as a list of dictionaries\n",
        "\n",
        "train_list = parse_data(train_data)\n",
        "valid_list = parse_data(valid_data)\n",
        "print('--------------------------')\n",
        "\n",
        "print('Train list len: ',len(train_list))\n",
        "print('Valid list len: ',len(valid_list))\n",
        "\n",
        "# converting the lists into dataframes\n",
        "\n",
        "train_df = pd.DataFrame(train_list)\n",
        "valid_df = pd.DataFrame(valid_list)"
      ],
      "metadata": {
        "colab": {
          "base_uri": "https://localhost:8080/"
        },
        "id": "zqtIi1iwFqDP",
        "outputId": "608911aa-dd95-473c-cf00-fc5b8817c856"
      },
      "execution_count": 8,
      "outputs": [
        {
          "output_type": "stream",
          "name": "stdout",
          "text": [
            "Length of data:  442\n",
            "Data Keys:  dict_keys(['title', 'paragraphs'])\n",
            "Title:  University_of_Notre_Dame\n",
            "Length of data:  48\n",
            "Data Keys:  dict_keys(['title', 'paragraphs'])\n",
            "Title:  Super_Bowl_50\n",
            "--------------------------\n",
            "Train list len:  87599\n",
            "Valid list len:  34726\n"
          ]
        }
      ]
    },
    {
      "cell_type": "code",
      "source": [
        "train_df.head()"
      ],
      "metadata": {
        "colab": {
          "base_uri": "https://localhost:8080/",
          "height": 206
        },
        "id": "Q_kulODGFqHF",
        "outputId": "9e646a61-8356-4082-a04d-c080a1554e9d"
      },
      "execution_count": 9,
      "outputs": [
        {
          "output_type": "execute_result",
          "data": {
            "text/plain": [
              "                         id  \\\n",
              "0  5733be284776f41900661182   \n",
              "1  5733be284776f4190066117f   \n",
              "2  5733be284776f41900661180   \n",
              "3  5733be284776f41900661181   \n",
              "4  5733be284776f4190066117e   \n",
              "\n",
              "                                             context  \\\n",
              "0  Architecturally, the school has a Catholic cha...   \n",
              "1  Architecturally, the school has a Catholic cha...   \n",
              "2  Architecturally, the school has a Catholic cha...   \n",
              "3  Architecturally, the school has a Catholic cha...   \n",
              "4  Architecturally, the school has a Catholic cha...   \n",
              "\n",
              "                                            question       label  \\\n",
              "0  To whom did the Virgin Mary allegedly appear i...  [515, 541]   \n",
              "1  What is in front of the Notre Dame Main Building?  [188, 213]   \n",
              "2  The Basilica of the Sacred heart at Notre Dame...  [279, 296]   \n",
              "3                  What is the Grotto at Notre Dame?  [381, 420]   \n",
              "4  What sits on top of the Main Building at Notre...   [92, 126]   \n",
              "\n",
              "                                    answer  \n",
              "0               Saint Bernadette Soubirous  \n",
              "1                a copper statue of Christ  \n",
              "2                        the Main Building  \n",
              "3  a Marian place of prayer and reflection  \n",
              "4       a golden statue of the Virgin Mary  "
            ],
            "text/html": [
              "\n",
              "  <div id=\"df-84bd7a85-84f8-4690-8c52-b032c3d86338\">\n",
              "    <div class=\"colab-df-container\">\n",
              "      <div>\n",
              "<style scoped>\n",
              "    .dataframe tbody tr th:only-of-type {\n",
              "        vertical-align: middle;\n",
              "    }\n",
              "\n",
              "    .dataframe tbody tr th {\n",
              "        vertical-align: top;\n",
              "    }\n",
              "\n",
              "    .dataframe thead th {\n",
              "        text-align: right;\n",
              "    }\n",
              "</style>\n",
              "<table border=\"1\" class=\"dataframe\">\n",
              "  <thead>\n",
              "    <tr style=\"text-align: right;\">\n",
              "      <th></th>\n",
              "      <th>id</th>\n",
              "      <th>context</th>\n",
              "      <th>question</th>\n",
              "      <th>label</th>\n",
              "      <th>answer</th>\n",
              "    </tr>\n",
              "  </thead>\n",
              "  <tbody>\n",
              "    <tr>\n",
              "      <th>0</th>\n",
              "      <td>5733be284776f41900661182</td>\n",
              "      <td>Architecturally, the school has a Catholic cha...</td>\n",
              "      <td>To whom did the Virgin Mary allegedly appear i...</td>\n",
              "      <td>[515, 541]</td>\n",
              "      <td>Saint Bernadette Soubirous</td>\n",
              "    </tr>\n",
              "    <tr>\n",
              "      <th>1</th>\n",
              "      <td>5733be284776f4190066117f</td>\n",
              "      <td>Architecturally, the school has a Catholic cha...</td>\n",
              "      <td>What is in front of the Notre Dame Main Building?</td>\n",
              "      <td>[188, 213]</td>\n",
              "      <td>a copper statue of Christ</td>\n",
              "    </tr>\n",
              "    <tr>\n",
              "      <th>2</th>\n",
              "      <td>5733be284776f41900661180</td>\n",
              "      <td>Architecturally, the school has a Catholic cha...</td>\n",
              "      <td>The Basilica of the Sacred heart at Notre Dame...</td>\n",
              "      <td>[279, 296]</td>\n",
              "      <td>the Main Building</td>\n",
              "    </tr>\n",
              "    <tr>\n",
              "      <th>3</th>\n",
              "      <td>5733be284776f41900661181</td>\n",
              "      <td>Architecturally, the school has a Catholic cha...</td>\n",
              "      <td>What is the Grotto at Notre Dame?</td>\n",
              "      <td>[381, 420]</td>\n",
              "      <td>a Marian place of prayer and reflection</td>\n",
              "    </tr>\n",
              "    <tr>\n",
              "      <th>4</th>\n",
              "      <td>5733be284776f4190066117e</td>\n",
              "      <td>Architecturally, the school has a Catholic cha...</td>\n",
              "      <td>What sits on top of the Main Building at Notre...</td>\n",
              "      <td>[92, 126]</td>\n",
              "      <td>a golden statue of the Virgin Mary</td>\n",
              "    </tr>\n",
              "  </tbody>\n",
              "</table>\n",
              "</div>\n",
              "      <button class=\"colab-df-convert\" onclick=\"convertToInteractive('df-84bd7a85-84f8-4690-8c52-b032c3d86338')\"\n",
              "              title=\"Convert this dataframe to an interactive table.\"\n",
              "              style=\"display:none;\">\n",
              "        \n",
              "  <svg xmlns=\"http://www.w3.org/2000/svg\" height=\"24px\"viewBox=\"0 0 24 24\"\n",
              "       width=\"24px\">\n",
              "    <path d=\"M0 0h24v24H0V0z\" fill=\"none\"/>\n",
              "    <path d=\"M18.56 5.44l.94 2.06.94-2.06 2.06-.94-2.06-.94-.94-2.06-.94 2.06-2.06.94zm-11 1L8.5 8.5l.94-2.06 2.06-.94-2.06-.94L8.5 2.5l-.94 2.06-2.06.94zm10 10l.94 2.06.94-2.06 2.06-.94-2.06-.94-.94-2.06-.94 2.06-2.06.94z\"/><path d=\"M17.41 7.96l-1.37-1.37c-.4-.4-.92-.59-1.43-.59-.52 0-1.04.2-1.43.59L10.3 9.45l-7.72 7.72c-.78.78-.78 2.05 0 2.83L4 21.41c.39.39.9.59 1.41.59.51 0 1.02-.2 1.41-.59l7.78-7.78 2.81-2.81c.8-.78.8-2.07 0-2.86zM5.41 20L4 18.59l7.72-7.72 1.47 1.35L5.41 20z\"/>\n",
              "  </svg>\n",
              "      </button>\n",
              "      \n",
              "  <style>\n",
              "    .colab-df-container {\n",
              "      display:flex;\n",
              "      flex-wrap:wrap;\n",
              "      gap: 12px;\n",
              "    }\n",
              "\n",
              "    .colab-df-convert {\n",
              "      background-color: #E8F0FE;\n",
              "      border: none;\n",
              "      border-radius: 50%;\n",
              "      cursor: pointer;\n",
              "      display: none;\n",
              "      fill: #1967D2;\n",
              "      height: 32px;\n",
              "      padding: 0 0 0 0;\n",
              "      width: 32px;\n",
              "    }\n",
              "\n",
              "    .colab-df-convert:hover {\n",
              "      background-color: #E2EBFA;\n",
              "      box-shadow: 0px 1px 2px rgba(60, 64, 67, 0.3), 0px 1px 3px 1px rgba(60, 64, 67, 0.15);\n",
              "      fill: #174EA6;\n",
              "    }\n",
              "\n",
              "    [theme=dark] .colab-df-convert {\n",
              "      background-color: #3B4455;\n",
              "      fill: #D2E3FC;\n",
              "    }\n",
              "\n",
              "    [theme=dark] .colab-df-convert:hover {\n",
              "      background-color: #434B5C;\n",
              "      box-shadow: 0px 1px 3px 1px rgba(0, 0, 0, 0.15);\n",
              "      filter: drop-shadow(0px 1px 2px rgba(0, 0, 0, 0.3));\n",
              "      fill: #FFFFFF;\n",
              "    }\n",
              "  </style>\n",
              "\n",
              "      <script>\n",
              "        const buttonEl =\n",
              "          document.querySelector('#df-84bd7a85-84f8-4690-8c52-b032c3d86338 button.colab-df-convert');\n",
              "        buttonEl.style.display =\n",
              "          google.colab.kernel.accessAllowed ? 'block' : 'none';\n",
              "\n",
              "        async function convertToInteractive(key) {\n",
              "          const element = document.querySelector('#df-84bd7a85-84f8-4690-8c52-b032c3d86338');\n",
              "          const dataTable =\n",
              "            await google.colab.kernel.invokeFunction('convertToInteractive',\n",
              "                                                     [key], {});\n",
              "          if (!dataTable) return;\n",
              "\n",
              "          const docLinkHtml = 'Like what you see? Visit the ' +\n",
              "            '<a target=\"_blank\" href=https://colab.research.google.com/notebooks/data_table.ipynb>data table notebook</a>'\n",
              "            + ' to learn more about interactive tables.';\n",
              "          element.innerHTML = '';\n",
              "          dataTable['output_type'] = 'display_data';\n",
              "          await google.colab.output.renderOutput(dataTable, element);\n",
              "          const docLink = document.createElement('div');\n",
              "          docLink.innerHTML = docLinkHtml;\n",
              "          element.appendChild(docLink);\n",
              "        }\n",
              "      </script>\n",
              "    </div>\n",
              "  </div>\n",
              "  "
            ]
          },
          "metadata": {},
          "execution_count": 9
        }
      ]
    },
    {
      "cell_type": "code",
      "source": [
        "def preprocess_df(df):\n",
        "    \n",
        "    def to_lower(text):\n",
        "        return text.lower()\n",
        "\n",
        "    df.context = df.context.apply(to_lower)\n",
        "    df.question = df.question.apply(to_lower)\n",
        "    df.answer = df.answer.apply(to_lower)"
      ],
      "metadata": {
        "id": "IQbCexRrGvA_"
      },
      "execution_count": 10,
      "outputs": []
    },
    {
      "cell_type": "code",
      "source": [
        "preprocess_df(train_df)\n",
        "preprocess_df(valid_df)"
      ],
      "metadata": {
        "id": "Sz4rqCU3HEAm"
      },
      "execution_count": 11,
      "outputs": []
    },
    {
      "cell_type": "markdown",
      "source": [
        " # Functions for preprocessing\n"
      ],
      "metadata": {
        "id": "9jSUN40-HJb0"
      }
    },
    {
      "cell_type": "code",
      "source": [
        "def gather_text_for_vocab(dfs:list):\n",
        "    '''\n",
        "    Gathers text from contexts and questions to build a vocabulary.\n",
        "    \n",
        "    :param dfs: list of dataframes of SQUAD dataset.\n",
        "    :returns: list of contexts and questions\n",
        "    '''\n",
        "    \n",
        "    text = []\n",
        "    total = 0\n",
        "    for df in dfs:\n",
        "        unique_contexts = list(df.context.unique())\n",
        "        unique_questions = list(df.question.unique())\n",
        "        total += df.context.nunique() + df.question.nunique()\n",
        "        text.extend(unique_contexts + unique_questions)\n",
        "    \n",
        "    assert len(text) == total\n",
        "    \n",
        "    return text\n",
        "\n",
        "\n",
        "\n",
        "\n",
        "def build_word_vocab(vocab_text):\n",
        "    '''\n",
        "    Builds a word-level vocabulary from the given text.\n",
        "    \n",
        "    :param list vocab_text: list of contexts and questions\n",
        "    :returns \n",
        "        dict word2idx: word to index mapping of words\n",
        "        dict idx2word: integer to word mapping\n",
        "        list word_vocab: list of words sorted by frequency\n",
        "    '''\n",
        "    \n",
        "    \n",
        "    words = []\n",
        "    for sent in vocab_text:\n",
        "        for word in nlp(sent, disable=['parser','tagger','ner']):\n",
        "            words.append(word.text)\n",
        "\n",
        "    word_counter = Counter(words)\n",
        "    word_vocab = sorted(word_counter, key=word_counter.get, reverse=True)\n",
        "    print(f\"raw-vocab: {len(word_vocab)}\")\n",
        "    word_vocab.insert(0, '<unk>')\n",
        "    word_vocab.insert(1, '<pad>')\n",
        "    print(f\"vocab-length: {len(word_vocab)}\")\n",
        "    word2idx = {word:idx for idx, word in enumerate(word_vocab)}\n",
        "    print(f\"word2idx-length: {len(word2idx)}\")\n",
        "    idx2word = {v:k for k,v in word2idx.items()}\n",
        "    \n",
        "    \n",
        "    return word2idx, idx2word, word_vocab\n",
        "\n",
        "\n",
        "\n",
        "\n",
        "\n",
        "def build_char_vocab(vocab_text):\n",
        "    '''\n",
        "    Builds a character-level vocabulary from the given text.\n",
        "    \n",
        "    :param list vocab_text: list of contexts and questions\n",
        "    :returns \n",
        "        dict char2idx: character to index mapping of words\n",
        "        list char_vocab: list of characters sorted by frequency\n",
        "    '''\n",
        "    \n",
        "    chars = []\n",
        "    for sent in vocab_text:\n",
        "        for ch in sent:\n",
        "            chars.append(ch)\n",
        "\n",
        "    char_counter = Counter(chars)\n",
        "    char_vocab = sorted(char_counter, key=char_counter.get, reverse=True)\n",
        "    print(f\"raw-char-vocab: {len(char_vocab)}\")\n",
        "    high_freq_char = [char for char, count in char_counter.items() if count>=20]\n",
        "    char_vocab = list(set(char_vocab).intersection(set(high_freq_char)))\n",
        "    print(f\"char-vocab-intersect: {len(char_vocab)}\")\n",
        "    char_vocab.insert(0,'<unk>')\n",
        "    char_vocab.insert(1,'<pad>')\n",
        "    char2idx = {char:idx for idx, char in enumerate(char_vocab)}\n",
        "    print(f\"char2idx-length: {len(char2idx)}\")\n",
        "    \n",
        "    return char2idx, char_vocab\n",
        "\n",
        "\n",
        "\n",
        "def context_to_ids(text, word2idx):\n",
        "    '''\n",
        "    Converts context text to their respective ids by mapping each word\n",
        "    using word2idx. Input text is tokenized using spacy tokenizer first.\n",
        "    \n",
        "    :param str text: context text to be converted\n",
        "    :param dict word2idx: word to id mapping\n",
        "    :returns list context_ids: list of mapped ids\n",
        "    \n",
        "    :raises assertion error: sanity check\n",
        "    \n",
        "    '''\n",
        "    \n",
        "    context_tokens = [w.text for w in nlp(text, disable=['parser','tagger','ner'])]\n",
        "    context_ids = [word2idx[word] for word in context_tokens]\n",
        "    \n",
        "    assert len(context_ids) == len(context_tokens)\n",
        "    return context_ids\n",
        "\n",
        "\n",
        "\n",
        "    \n",
        "def question_to_ids(text, word2idx):\n",
        "    '''\n",
        "    Converts question text to their respective ids by mapping each word\n",
        "    using word2idx. Input text is tokenized using spacy tokenizer first.\n",
        "    \n",
        "    :param str text: question text to be converted\n",
        "    :param dict word2idx: word to id mapping\n",
        "    :returns list context_ids: list of mapped ids\n",
        "    \n",
        "    :raises assertion error: sanity check\n",
        "    \n",
        "    '''\n",
        "    \n",
        "    question_tokens = [w.text for w in nlp(text, disable=['parser','tagger','ner'])]\n",
        "    question_ids = [word2idx[word] for word in question_tokens]\n",
        "    \n",
        "    assert len(question_ids) == len(question_tokens)\n",
        "    return question_ids\n",
        "    \n",
        "\n",
        "\n",
        "    \n",
        "def test_indices(df, idx2word):\n",
        "    '''\n",
        "    Performs the tests mentioned above. This method also gets the start and end of the answers\n",
        "    with respect to the context_ids for each example.\n",
        "    \n",
        "    :param dataframe df: SQUAD df\n",
        "    :param dict idx2word: inverse mapping of token ids to words\n",
        "    :returns\n",
        "        list start_value_error: example idx where the start idx is not found in the start spans\n",
        "                                of the text\n",
        "        list end_value_error: example idx where the end idx is not found in the end spans\n",
        "                              of the text\n",
        "        list assert_error: examples that fail assertion errors. A majority are due to the above errors\n",
        "        \n",
        "    '''\n",
        "\n",
        "    start_value_error = []\n",
        "    end_value_error = []\n",
        "    assert_error = []\n",
        "    for index, row in df.iterrows():\n",
        "\n",
        "        answer_tokens = [w.text for w in nlp(row['answer'], disable=['parser','tagger','ner'])]\n",
        "\n",
        "        start_token = answer_tokens[0]\n",
        "        end_token = answer_tokens[-1]\n",
        "        \n",
        "        context_span  = [(word.idx, word.idx + len(word.text)) \n",
        "                         for word in nlp(row['context'], disable=['parser','tagger','ner'])]\n",
        "\n",
        "        starts, ends = zip(*context_span)\n",
        "\n",
        "        answer_start, answer_end = row['label']\n",
        "\n",
        "        try:\n",
        "            start_idx = starts.index(answer_start)\n",
        "        except:\n",
        "            start_value_error.append(index)\n",
        "        try:\n",
        "            end_idx  = ends.index(answer_end)\n",
        "        except:\n",
        "            end_value_error.append(index)\n",
        "\n",
        "        try:\n",
        "            assert idx2word[row['context_ids'][start_idx]] == answer_tokens[0]\n",
        "            assert idx2word[row['context_ids'][end_idx]] == answer_tokens[-1]\n",
        "        except:\n",
        "            assert_error.append(index)\n",
        "\n",
        "\n",
        "    return start_value_error, end_value_error, assert_error\n",
        "\n",
        "\n",
        "\n",
        "def get_error_indices(df, idx2word):\n",
        "    \n",
        "    start_value_error, end_value_error, assert_error = test_indices(df, idx2word)\n",
        "    err_idx = start_value_error + end_value_error + assert_error\n",
        "    err_idx = set(err_idx)\n",
        "    print(f\"Number of error indices: {len(err_idx)}\")\n",
        "    \n",
        "    return err_idx\n",
        "\n",
        "\n",
        "\n",
        "def index_answer(row, idx2word):\n",
        "    '''\n",
        "    Takes in a row of the dataframe or one training example and\n",
        "    returns a tuple of start and end positions of answer by calculating \n",
        "    spans.\n",
        "    '''\n",
        "    \n",
        "    context_span = [(word.idx, word.idx + len(word.text)) for word in nlp(row.context, disable=['parser','tagger','ner'])]\n",
        "    starts, ends = zip(*context_span)\n",
        "    \n",
        "    answer_start, answer_end = row.label\n",
        "    start_idx = starts.index(answer_start)\n",
        " \n",
        "    end_idx  = ends.index(answer_end)\n",
        "    \n",
        "    ans_toks = [w.text for w in nlp(row.answer,disable=['parser','tagger','ner'])]\n",
        "    ans_start = ans_toks[0]\n",
        "    ans_end = ans_toks[-1]\n",
        "    assert idx2word[row.context_ids[start_idx]] == ans_start\n",
        "    assert idx2word[row.context_ids[end_idx]] == ans_end\n",
        "    \n",
        "    return [start_idx, end_idx]\n"
      ],
      "metadata": {
        "id": "Wfh_sUfkHnP8"
      },
      "execution_count": 12,
      "outputs": []
    },
    {
      "cell_type": "code",
      "source": [
        "# gather text to build vocabularies\n",
        "\n",
        "vocab_text = gather_text_for_vocab([train_df, valid_df])\n",
        "print(\"Number of sentences in dataset: \", len(vocab_text))"
      ],
      "metadata": {
        "colab": {
          "base_uri": "https://localhost:8080/"
        },
        "id": "zkEeyeQaHnUl",
        "outputId": "790a4ec4-1eb0-48f0-9cd5-fbe32a0242c0"
      },
      "execution_count": 13,
      "outputs": [
        {
          "output_type": "stream",
          "name": "stdout",
          "text": [
            "Number of sentences in dataset:  118822\n"
          ]
        }
      ]
    },
    {
      "cell_type": "code",
      "source": [
        "# build word and character-level vocabularies\n",
        "\n",
        "word2idx, idx2word, word_vocab = build_word_vocab(vocab_text)\n",
        "print(\"----------------------------------\")\n",
        "char2idx, char_vocab = build_char_vocab(vocab_text)"
      ],
      "metadata": {
        "colab": {
          "base_uri": "https://localhost:8080/"
        },
        "id": "ImQzD3qAH1cO",
        "outputId": "1e701579-cb7e-4647-a664-10381cd1e492"
      },
      "execution_count": 14,
      "outputs": [
        {
          "output_type": "stream",
          "name": "stderr",
          "text": [
            "/usr/local/lib/python3.8/dist-packages/spacy/pipeline/lemmatizer.py:211: UserWarning: [W108] The rule-based lemmatizer did not find POS annotation for one or more tokens. Check that your pipeline includes components that assign token.pos, typically 'tagger'+'attribute_ruler' or 'morphologizer'.\n",
            "  warnings.warn(Warnings.W108)\n"
          ]
        },
        {
          "output_type": "stream",
          "name": "stdout",
          "text": [
            "raw-vocab: 96774\n",
            "vocab-length: 96776\n",
            "word2idx-length: 96776\n",
            "----------------------------------\n",
            "raw-char-vocab: 1316\n",
            "char-vocab-intersect: 202\n",
            "char2idx-length: 204\n"
          ]
        }
      ]
    },
    {
      "cell_type": "code",
      "source": [
        "train_df['context_ids'] = train_df.context.apply(context_to_ids, word2idx=word2idx)\n",
        "valid_df['context_ids'] = valid_df.context.apply(context_to_ids, word2idx=word2idx)\n",
        "train_df['question_ids'] = train_df.question.apply(question_to_ids, word2idx=word2idx)\n",
        "valid_df['question_ids'] = valid_df.question.apply(question_to_ids, word2idx=word2idx)"
      ],
      "metadata": {
        "id": "TfhHjV2HIKAu"
      },
      "execution_count": 15,
      "outputs": []
    },
    {
      "cell_type": "code",
      "source": [
        "# get indices with tokenization errors and drop those indices \n",
        "\n",
        "train_err = get_error_indices(train_df, idx2word)\n",
        "valid_err = get_error_indices(valid_df, idx2word)\n",
        "\n",
        "train_df.drop(train_err, inplace=True)\n",
        "valid_df.drop(valid_err, inplace=True)"
      ],
      "metadata": {
        "colab": {
          "base_uri": "https://localhost:8080/"
        },
        "id": "PdWMgEQpIS0j",
        "outputId": "450e69d0-3bea-4e56-a384-06c2db8f1bbe"
      },
      "execution_count": 16,
      "outputs": [
        {
          "output_type": "stream",
          "name": "stdout",
          "text": [
            "Number of error indices: 921\n",
            "Number of error indices: 349\n"
          ]
        }
      ]
    },
    {
      "cell_type": "code",
      "source": [
        "# get start and end positions of answers from the context\n",
        "# this is basically the label for training QA models\n",
        "\n",
        "train_label_idx = train_df.apply(index_answer, axis=1, idx2word=idx2word)\n",
        "valid_label_idx = valid_df.apply(index_answer, axis=1, idx2word=idx2word)\n",
        "\n",
        "train_df['label_idx'] = train_label_idx\n",
        "valid_df['label_idx'] = valid_label_idx"
      ],
      "metadata": {
        "id": "flRnMdALIS21"
      },
      "execution_count": 17,
      "outputs": []
    },
    {
      "cell_type": "code",
      "source": [
        "# dump to pickle files\n",
        "\n",
        "train_df.to_pickle('/content/drive/MyDrive/NLP_hackathon/Squad_Data/bidaftrain.pkl')\n",
        "valid_df.to_pickle('/content/drive/MyDrive/NLP_hackathon/Squad_Data/bidafvalid.pkl')\n",
        "\n",
        "with open('/content/drive/MyDrive/NLP_hackathon/Squad_Data/qanetw2id.pickle','wb') as handle:\n",
        "    pickle.dump(word2idx, handle)\n",
        "\n",
        "with open('/content/drive/MyDrive/NLP_hackathon/Squad_Data/qanetc2id.pickle','wb') as handle:\n",
        "    pickle.dump(char2idx, handle)"
      ],
      "metadata": {
        "id": "YF3dshhvIS5G"
      },
      "execution_count": 18,
      "outputs": []
    },
    {
      "cell_type": "code",
      "source": [
        "\n",
        "\n",
        "train_df = pd.read_pickle('/content/drive/MyDrive/NLP_hackathon/Squad_Data/bidaftrain.pkl')\n",
        "valid_df = pd.read_pickle('/content/drive/MyDrive/NLP_hackathon/Squad_Data/bidafvalid.pkl')\n",
        "\n",
        "with open('/content/drive/MyDrive/NLP_hackathon/Squad_Data/qanetw2id.pickle','rb') as handle:\n",
        "    word2idx = pickle.load(handle)\n",
        "with open('/content/drive/MyDrive/NLP_hackathon/Squad_Data/qanetc2id.pickle','rb') as handle:\n",
        "    char2idx = pickle.load(handle)\n",
        "\n",
        "idx2word = {v:k for k,v in word2idx.items()}"
      ],
      "metadata": {
        "id": "LPvAr80UIkl6"
      },
      "execution_count": 19,
      "outputs": []
    },
    {
      "cell_type": "markdown",
      "source": [
        "# Dataloader"
      ],
      "metadata": {
        "id": "S5512RIKkMLA"
      }
    },
    {
      "cell_type": "code",
      "source": [
        "class SquadDataset:\n",
        "    '''\n",
        "    - Creates batches dynamically by padding to the length of largest example\n",
        "      in a given batch.\n",
        "    - Calulates character vectors for contexts and question.\n",
        "    - Returns tensors for training.\n",
        "    '''\n",
        "    \n",
        "    def __init__(self, data, batch_size):\n",
        "        \n",
        "        self.batch_size = batch_size\n",
        "        data = [data[i:i+self.batch_size] for i in range(0, len(data), self.batch_size)]\n",
        "        self.data = data\n",
        "        \n",
        "        \n",
        "    def __len__(self):\n",
        "        return len(self.data)\n",
        "    \n",
        "    def make_char_vector(self, max_sent_len, max_word_len, sentence):\n",
        "        \n",
        "        char_vec = torch.ones(max_sent_len, max_word_len).type(torch.LongTensor)\n",
        "        \n",
        "        for i, word in enumerate(nlp(sentence, disable=['parser','tagger','ner'])):\n",
        "            for j, ch in enumerate(word.text):\n",
        "                char_vec[i][j] = char2idx.get(ch, 0)\n",
        "        \n",
        "        return char_vec    \n",
        "    \n",
        "    def get_span(self, text):\n",
        "        \n",
        "        text = nlp(text, disable=['parser','tagger','ner'])\n",
        "        span = [(w.idx, w.idx+len(w.text)) for w in text]\n",
        "\n",
        "        return span\n",
        "\n",
        "    def __iter__(self):\n",
        "        '''\n",
        "        Creates batches of data and yields them.\n",
        "        \n",
        "        Each yield comprises of:\n",
        "        :padded_context: padded tensor of contexts for each batch \n",
        "        :padded_question: padded tensor of questions for each batch \n",
        "        :char_ctx & ques_ctx: character-level ids for context and question\n",
        "        :label: start and end index wrt context_ids\n",
        "        :context_text,answer_text: used while validation to calculate metrics\n",
        "        :ids: question_ids for evaluation\n",
        "        \n",
        "        '''\n",
        "        \n",
        "        for batch in self.data:\n",
        "            \n",
        "            spans = []\n",
        "            ctx_text = []\n",
        "            answer_text = []\n",
        "            \n",
        "            for ctx in batch.context:\n",
        "                ctx_text.append(ctx)\n",
        "                spans.append(self.get_span(ctx))\n",
        "            \n",
        "            for ans in batch.answer:\n",
        "                answer_text.append(ans)\n",
        "                \n",
        "            \n",
        "            max_context_len = max([len(ctx) for ctx in batch.context_ids])\n",
        "            padded_context = torch.LongTensor(len(batch), max_context_len).fill_(1)\n",
        "            \n",
        "            for i, ctx in enumerate(batch.context_ids):\n",
        "                padded_context[i, :len(ctx)] = torch.LongTensor(ctx)\n",
        "                \n",
        "            max_word_ctx = 0\n",
        "            for context in batch.context:\n",
        "                for word in nlp(context, disable=['parser','tagger','ner']):\n",
        "                    if len(word.text) > max_word_ctx:\n",
        "                        max_word_ctx = len(word.text)\n",
        "            \n",
        "            char_ctx = torch.ones(len(batch), max_context_len, max_word_ctx).type(torch.LongTensor)\n",
        "            for i, context in enumerate(batch.context):\n",
        "                char_ctx[i] = self.make_char_vector(max_context_len, max_word_ctx, context)\n",
        "            \n",
        "            max_question_len = max([len(ques) for ques in batch.question_ids])\n",
        "            padded_question = torch.LongTensor(len(batch), max_question_len).fill_(1)\n",
        "            \n",
        "            for i, ques in enumerate(batch.question_ids):\n",
        "                padded_question[i, :len(ques)] = torch.LongTensor(ques)\n",
        "                \n",
        "            max_word_ques = 0\n",
        "            for question in batch.question:\n",
        "                for word in nlp(question, disable=['parser','tagger','ner']):\n",
        "                    if len(word.text) > max_word_ques:\n",
        "                        max_word_ques = len(word.text)\n",
        "            \n",
        "            char_ques = torch.ones(len(batch), max_question_len, max_word_ques).type(torch.LongTensor)\n",
        "            for i, question in enumerate(batch.question):\n",
        "                char_ques[i] = self.make_char_vector(max_question_len, max_word_ques, question)\n",
        "            \n",
        "            ids = list(batch.id)  \n",
        "            label = torch.LongTensor(list(batch.label_idx))\n",
        "            \n",
        "            yield (padded_context, padded_question, char_ctx, char_ques, label, ctx_text, answer_text, ids)"
      ],
      "metadata": {
        "id": "sizDLkBbkIdg"
      },
      "execution_count": 20,
      "outputs": []
    },
    {
      "cell_type": "code",
      "source": [
        "train_dataset = SquadDataset(train_df, 16)"
      ],
      "metadata": {
        "id": "i7qrsl5lkIgA"
      },
      "execution_count": 21,
      "outputs": []
    },
    {
      "cell_type": "code",
      "source": [
        "valid_dataset = SquadDataset(valid_df, 16)"
      ],
      "metadata": {
        "id": "g-MrgrWXkIi2"
      },
      "execution_count": 22,
      "outputs": []
    },
    {
      "cell_type": "code",
      "source": [
        "a = next(iter(train_dataset))\n"
      ],
      "metadata": {
        "colab": {
          "base_uri": "https://localhost:8080/"
        },
        "id": "a9KYSwrjkIlG",
        "outputId": "0f3d3711-ee90-4a25-ece6-7988bb3142c6"
      },
      "execution_count": 23,
      "outputs": [
        {
          "output_type": "stream",
          "name": "stderr",
          "text": [
            "/usr/local/lib/python3.8/dist-packages/spacy/pipeline/lemmatizer.py:211: UserWarning: [W108] The rule-based lemmatizer did not find POS annotation for one or more tokens. Check that your pipeline includes components that assign token.pos, typically 'tagger'+'attribute_ruler' or 'morphologizer'.\n",
            "  warnings.warn(Warnings.W108)\n"
          ]
        }
      ]
    },
    {
      "cell_type": "markdown",
      "source": [
        "# BiDAF Model"
      ],
      "metadata": {
        "id": "hSAjTR7QkbmB"
      }
    },
    {
      "cell_type": "markdown",
      "source": [
        "# Word Embedding"
      ],
      "metadata": {
        "id": "elaXe7owkkVE"
      }
    },
    {
      "cell_type": "code",
      "source": [
        "def get_glove_dict():\n",
        "    '''\n",
        "    Parses the glove word vectors text file and returns a dictionary with the words as\n",
        "    keys and their respective pretrained word vectors as values.\n",
        "\n",
        "    '''\n",
        "    glove_dict = {}\n",
        "    with open(\"/content/drive/MyDrive/NLP_hackathon/glove.6B.100d.txt\", \"r\", encoding=\"utf-8\") as f:\n",
        "        for line in f:\n",
        "            values = line.split()\n",
        "            word = values[0]\n",
        "            vector = np.asarray(values[1:], \"float32\")\n",
        "            glove_dict[word] = vector\n",
        "            \n",
        "    f.close()\n",
        "    \n",
        "    return glove_dict"
      ],
      "metadata": {
        "id": "fHLY7mvckInN"
      },
      "execution_count": 25,
      "outputs": []
    },
    {
      "cell_type": "code",
      "source": [
        "glove_dict = get_glove_dict()"
      ],
      "metadata": {
        "id": "NN2J1giMkm2E"
      },
      "execution_count": 26,
      "outputs": []
    },
    {
      "cell_type": "code",
      "source": [
        "def create_weights_matrix(glove_dict):\n",
        "    '''\n",
        "    Creates a weight matrix of the words that are common in the GloVe vocab and\n",
        "    the dataset's vocab. Initializes OOV words with a zero vector.\n",
        "    '''\n",
        "    weights_matrix = np.zeros((len(word_vocab), 100))\n",
        "    words_found = 0\n",
        "    for i, word in enumerate(word_vocab):\n",
        "        try:\n",
        "            weights_matrix[i] = glove_dict[word]\n",
        "            words_found += 1\n",
        "        except:\n",
        "            pass\n",
        "        \n",
        "    return weights_matrix, words_found"
      ],
      "metadata": {
        "id": "Ezu-wkI1km4V"
      },
      "execution_count": 27,
      "outputs": []
    },
    {
      "cell_type": "code",
      "source": [
        "weights_matrix, words_found = create_weights_matrix(glove_dict)\n",
        "print(\"Words found in the GloVe vocab: \" ,words_found)"
      ],
      "metadata": {
        "colab": {
          "base_uri": "https://localhost:8080/"
        },
        "id": "otY6yP8fkm6q",
        "outputId": "fa906d12-431f-4dde-d901-ad2199886161"
      },
      "execution_count": 28,
      "outputs": [
        {
          "output_type": "stream",
          "name": "stdout",
          "text": [
            "Words found in the GloVe vocab:  72687\n"
          ]
        }
      ]
    },
    {
      "cell_type": "code",
      "source": [
        "np.save('/content/drive/MyDrive/NLP_hackathon/Squad_Data/bidafglove_squad.npy', weights_matrix)"
      ],
      "metadata": {
        "id": "n_maN5kjkm9K"
      },
      "execution_count": 29,
      "outputs": []
    },
    {
      "cell_type": "markdown",
      "source": [
        "# Character Embedding"
      ],
      "metadata": {
        "id": "O4AN3dmWkzto"
      }
    },
    {
      "cell_type": "code",
      "source": [
        "class CharacterEmbeddingLayer(nn.Module):\n",
        "    \n",
        "    def __init__(self, char_vocab_dim, char_emb_dim, num_output_channels, kernel_size):\n",
        "        \n",
        "        super().__init__()\n",
        "        \n",
        "        self.char_emb_dim = char_emb_dim\n",
        "        \n",
        "        self.char_embedding = nn.Embedding(char_vocab_dim, char_emb_dim, padding_idx=1)\n",
        "        \n",
        "        self.char_convolution = nn.Conv2d(in_channels=1, out_channels=100, kernel_size=kernel_size)\n",
        "        \n",
        "        self.relu = nn.ReLU()\n",
        "    \n",
        "        self.dropout = nn.Dropout(0.2)\n",
        "        \n",
        "    def forward(self, x):\n",
        "        # x = [bs, seq_len, word_len]\n",
        "        # returns : [batch_size, seq_len, num_output_channels]\n",
        "        # the output can be thought of as another feature embedding of dim 100.\n",
        "        \n",
        "        batch_size = x.shape[0]\n",
        "        \n",
        "        x = self.dropout(self.char_embedding(x))\n",
        "        # x = [bs, seq_len, word_len, char_emb_dim]\n",
        "        \n",
        "        # following three operations manipulate x in such a way that\n",
        "        # it closely resembles an image. this format is important before \n",
        "        # we perform convolution on the character embeddings.\n",
        "        \n",
        "        x = x.permute(0,1,3,2)\n",
        "        # x = [bs, seq_len, char_emb_dim, word_len]\n",
        "        \n",
        "        x = x.view(-1, self.char_emb_dim, x.shape[3])\n",
        "        # x = [bs*seq_len, char_emb_dim, word_len]\n",
        "        \n",
        "        x = x.unsqueeze(1)\n",
        "        # x = [bs*seq_len, 1, char_emb_dim, word_len]\n",
        "        \n",
        "        # x is now in a format that can be accepted by a conv layer. \n",
        "        # think of the tensor above in terms of an image of dimension\n",
        "        # (N, C_in, H_in, W_in).\n",
        "        \n",
        "        x = self.relu(self.char_convolution(x))\n",
        "        # x = [bs*seq_len, out_channels, H_out, W_out]\n",
        "        \n",
        "        x = x.squeeze()\n",
        "        # x = [bs*seq_len, out_channels, W_out]\n",
        "                \n",
        "        x = F.max_pool1d(x, x.shape[2]).squeeze()\n",
        "        # x = [bs*seq_len, out_channels, 1] => [bs*seq_len, out_channels]\n",
        "        \n",
        "        x = x.view(batch_size, -1, x.shape[-1])\n",
        "        # x = [bs, seq_len, out_channels]\n",
        "        # x = [bs, seq_len, features] = [bs, seq_len, 100]\n",
        "        \n",
        "        \n",
        "        return x"
      ],
      "metadata": {
        "id": "0WokvHD0km-7"
      },
      "execution_count": 30,
      "outputs": []
    },
    {
      "cell_type": "markdown",
      "source": [
        "# Highway Networks"
      ],
      "metadata": {
        "id": "b_hNId-Xk8MF"
      }
    },
    {
      "cell_type": "code",
      "source": [
        "class HighwayNetwork(nn.Module):\n",
        "    \n",
        "    def __init__(self, input_dim, num_layers=2):\n",
        "        \n",
        "        super().__init__()\n",
        "        \n",
        "        self.num_layers = num_layers\n",
        "        \n",
        "        self.flow_layer = nn.ModuleList([nn.Linear(input_dim, input_dim) for _ in range(num_layers)])\n",
        "        self.gate_layer = nn.ModuleList([nn.Linear(input_dim, input_dim) for _ in range(num_layers)])\n",
        "        \n",
        "    def forward(self, x):\n",
        "        \n",
        "        for i in range(self.num_layers):\n",
        "            \n",
        "            flow_value = F.relu(self.flow_layer[i](x))\n",
        "            gate_value = torch.sigmoid(self.gate_layer[i](x))\n",
        "            \n",
        "            x = gate_value * flow_value + (1-gate_value) * x\n",
        "        \n",
        "        return x"
      ],
      "metadata": {
        "id": "tg7JcwF4knBI"
      },
      "execution_count": 31,
      "outputs": []
    },
    {
      "cell_type": "markdown",
      "source": [
        "# Contextual Embedding"
      ],
      "metadata": {
        "id": "M8HqFMNsk_IT"
      }
    },
    {
      "cell_type": "code",
      "source": [
        "class ContextualEmbeddingLayer(nn.Module):\n",
        "    \n",
        "    def __init__(self, input_dim, hidden_dim):\n",
        "        \n",
        "        super().__init__()\n",
        "        \n",
        "        self.lstm = nn.LSTM(input_dim, hidden_dim, batch_first=True, bidirectional=True)\n",
        "        \n",
        "        self.highway_net = HighwayNetwork(input_dim)\n",
        "        \n",
        "    def forward(self, x):\n",
        "        # x = [bs, seq_len, input_dim] = [bs, seq_len, emb_dim*2]\n",
        "        # the input is the concatenation of word and characeter embeddings\n",
        "        # for the sequence.\n",
        "        \n",
        "        highway_out = self.highway_net(x)\n",
        "        # highway_out = [bs, seq_len, input_dim]\n",
        "        \n",
        "        outputs, _ = self.lstm(highway_out)\n",
        "        # outputs = [bs, seq_len, emb_dim*2]\n",
        "        \n",
        "        return outputs"
      ],
      "metadata": {
        "id": "VuYw0W1NlBS6"
      },
      "execution_count": 32,
      "outputs": []
    },
    {
      "cell_type": "markdown",
      "source": [
        "# Attention Flow Layer"
      ],
      "metadata": {
        "id": "Nhh5PLMklFGm"
      }
    },
    {
      "cell_type": "code",
      "source": [
        "class BiDAF(nn.Module):\n",
        "    \n",
        "    def __init__(self, char_vocab_dim, emb_dim, char_emb_dim, num_output_channels, \n",
        "                 kernel_size, ctx_hidden_dim, device):\n",
        "        '''\n",
        "        char_vocab_dim = len(char2idx)\n",
        "        emb_dim = 100\n",
        "        char_emb_dim = 8\n",
        "        num_output_chanels = 100\n",
        "        kernel_size = (8,5)\n",
        "        ctx_hidden_dim = 100\n",
        "        '''\n",
        "        super().__init__()\n",
        "        \n",
        "        self.device = device\n",
        "        \n",
        "        self.word_embedding = self.get_glove_embedding()\n",
        "        \n",
        "        self.character_embedding = CharacterEmbeddingLayer(char_vocab_dim, char_emb_dim, \n",
        "                                                      num_output_channels, kernel_size)\n",
        "        \n",
        "        self.contextual_embedding = ContextualEmbeddingLayer(emb_dim*2, ctx_hidden_dim)\n",
        "        \n",
        "        self.dropout = nn.Dropout()\n",
        "        \n",
        "        self.similarity_weight = nn.Linear(emb_dim*6, 1, bias=False)\n",
        "        \n",
        "        self.modeling_lstm = nn.LSTM(emb_dim*8, emb_dim, bidirectional=True, num_layers=2, batch_first=True, dropout=0.2)\n",
        "        \n",
        "        self.output_start = nn.Linear(emb_dim*10, 1, bias=False)\n",
        "        \n",
        "        self.output_end = nn.Linear(emb_dim*10, 1, bias=False)\n",
        "        \n",
        "        self.end_lstm = nn.LSTM(emb_dim*2, emb_dim, bidirectional=True, batch_first=True)\n",
        "        \n",
        "    \n",
        "    def get_glove_embedding(self):\n",
        "        \n",
        "        weights_matrix = np.load('/content/drive/MyDrive/NLP_hackathon/Squad_Data/bidafglove_squad.npy')\n",
        "        num_embeddings, embedding_dim = weights_matrix.shape\n",
        "        embedding = nn.Embedding.from_pretrained(torch.FloatTensor(weights_matrix).to(self.device),freeze=True)\n",
        "\n",
        "        return embedding\n",
        "        \n",
        "    def forward(self, ctx, ques, char_ctx, char_ques):\n",
        "        # ctx = [bs, ctx_len]\n",
        "        # ques = [bs, ques_len]\n",
        "        # char_ctx = [bs, ctx_len, ctx_word_len]\n",
        "        # char_ques = [bs, ques_len, ques_word_len]\n",
        "        \n",
        "        ctx_len = ctx.shape[1]\n",
        "        \n",
        "        ques_len = ques.shape[1]\n",
        "        \n",
        "        ## GET WORD AND CHARACTER EMBEDDINGS\n",
        "        \n",
        "        ctx_word_embed = self.word_embedding(ctx)\n",
        "        # ctx_word_embed = [bs, ctx_len, emb_dim]\n",
        "        \n",
        "        ques_word_embed = self.word_embedding(ques)\n",
        "        # ques_word_embed = [bs, ques_len, emb_dim]\n",
        "        \n",
        "        ctx_char_embed = self.character_embedding(char_ctx)\n",
        "        # ctx_char_embed =  [bs, ctx_len, emb_dim]\n",
        "        \n",
        "        ques_char_embed = self.character_embedding(char_ques)\n",
        "        # ques_char_embed = [bs, ques_len, emb_dim]\n",
        "        \n",
        "        ## CREATE CONTEXTUAL EMBEDDING\n",
        "        \n",
        "        ctx_contextual_inp = torch.cat([ctx_word_embed, ctx_char_embed],dim=2)\n",
        "        # [bs, ctx_len, emb_dim*2]\n",
        "        \n",
        "        ques_contextual_inp = torch.cat([ques_word_embed, ques_char_embed],dim=2)\n",
        "        # [bs, ques_len, emb_dim*2]\n",
        "        \n",
        "        ctx_contextual_emb = self.contextual_embedding(ctx_contextual_inp)\n",
        "        # [bs, ctx_len, emb_dim*2]\n",
        "        \n",
        "        ques_contextual_emb = self.contextual_embedding(ques_contextual_inp)\n",
        "        # [bs, ques_len, emb_dim*2]\n",
        "        \n",
        "        \n",
        "        ## CREATE SIMILARITY MATRIX\n",
        "        \n",
        "        ctx_ = ctx_contextual_emb.unsqueeze(2).repeat(1,1,ques_len,1)\n",
        "        # [bs, ctx_len, 1, emb_dim*2] => [bs, ctx_len, ques_len, emb_dim*2]\n",
        "        \n",
        "        ques_ = ques_contextual_emb.unsqueeze(1).repeat(1,ctx_len,1,1)\n",
        "        # [bs, 1, ques_len, emb_dim*2] => [bs, ctx_len, ques_len, emb_dim*2]\n",
        "        \n",
        "        elementwise_prod = torch.mul(ctx_, ques_)\n",
        "        # [bs, ctx_len, ques_len, emb_dim*2]\n",
        "        \n",
        "        alpha = torch.cat([ctx_, ques_, elementwise_prod], dim=3)\n",
        "        # [bs, ctx_len, ques_len, emb_dim*6]\n",
        "        \n",
        "        similarity_matrix = self.similarity_weight(alpha).view(-1, ctx_len, ques_len)\n",
        "        # [bs, ctx_len, ques_len]\n",
        "        \n",
        "        \n",
        "        ## CALCULATE CONTEXT2QUERY ATTENTION\n",
        "        \n",
        "        a = F.softmax(similarity_matrix, dim=-1)\n",
        "        # [bs, ctx_len, ques_len]\n",
        "        \n",
        "        c2q = torch.bmm(a, ques_contextual_emb)\n",
        "        # [bs] ([ctx_len, ques_len] X [ques_len, emb_dim*2]) => [bs, ctx_len, emb_dim*2]\n",
        "        \n",
        "        \n",
        "        ## CALCULATE QUERY2CONTEXT ATTENTION\n",
        "        \n",
        "        b = F.softmax(torch.max(similarity_matrix,2)[0], dim=-1)\n",
        "        # [bs, ctx_len]\n",
        "        \n",
        "        b = b.unsqueeze(1)\n",
        "        # [bs, 1, ctx_len]\n",
        "        \n",
        "        q2c = torch.bmm(b, ctx_contextual_emb)\n",
        "        # [bs] ([bs, 1, ctx_len] X [bs, ctx_len, emb_dim*2]) => [bs, 1, emb_dim*2]\n",
        "        \n",
        "        q2c = q2c.repeat(1, ctx_len, 1)\n",
        "        # [bs, ctx_len, emb_dim*2]\n",
        "        \n",
        "        ## QUERY AWARE REPRESENTATION\n",
        "        \n",
        "        G = torch.cat([ctx_contextual_emb, c2q, \n",
        "                       torch.mul(ctx_contextual_emb,c2q), \n",
        "                       torch.mul(ctx_contextual_emb, q2c)], dim=2)\n",
        "        \n",
        "        # [bs, ctx_len, emb_dim*8]\n",
        "        \n",
        "        \n",
        "        ## MODELING LAYER\n",
        "        \n",
        "        M, _ = self.modeling_lstm(G)\n",
        "        # [bs, ctx_len, emb_dim*2]\n",
        "        \n",
        "        ## OUTPUT LAYER\n",
        "        \n",
        "        M2, _ = self.end_lstm(M)\n",
        "        \n",
        "        # START PREDICTION\n",
        "        \n",
        "        p1 = self.output_start(torch.cat([G,M], dim=2))\n",
        "        # [bs, ctx_len, 1]\n",
        "        \n",
        "        p1 = p1.squeeze()\n",
        "        # [bs, ctx_len]\n",
        "        \n",
        "        #p1 = F.softmax(p1, dim=-1)\n",
        "        \n",
        "        # END PREDICTION\n",
        "        \n",
        "        p2 = self.output_end(torch.cat([G, M2], dim=2)).squeeze()\n",
        "        # [bs, ctx_len, 1] => [bs, ctx_len]\n",
        "        \n",
        "        #p2 = F.softmax(p2, dim=-1)\n",
        "        \n",
        "        \n",
        "        return p1, p2"
      ],
      "metadata": {
        "id": "fLQm7JfKlDGD"
      },
      "execution_count": 35,
      "outputs": []
    },
    {
      "cell_type": "markdown",
      "source": [
        "# Training"
      ],
      "metadata": {
        "id": "H1BKHTIqlNcB"
      }
    },
    {
      "cell_type": "code",
      "source": [
        "CHAR_VOCAB_DIM = len(char2idx)\n",
        "EMB_DIM = 100\n",
        "CHAR_EMB_DIM = 8\n",
        "NUM_OUTPUT_CHANNELS = 100\n",
        "KERNEL_SIZE = (8,5)\n",
        "HIDDEN_DIM = 100\n",
        "device = torch.device('cuda')\n",
        "\n",
        "model = BiDAF(CHAR_VOCAB_DIM, \n",
        "              EMB_DIM, \n",
        "              CHAR_EMB_DIM, \n",
        "              NUM_OUTPUT_CHANNELS, \n",
        "              KERNEL_SIZE, \n",
        "              HIDDEN_DIM, \n",
        "              device).to(device)"
      ],
      "metadata": {
        "id": "CzpuzLJylDKY"
      },
      "execution_count": 36,
      "outputs": []
    },
    {
      "cell_type": "code",
      "source": [
        "optimizer = optim.Adadelta(model.parameters())"
      ],
      "metadata": {
        "id": "H9G5-FJmlTsT"
      },
      "execution_count": 37,
      "outputs": []
    },
    {
      "cell_type": "code",
      "source": [
        "from tensorboardX import SummaryWriter\n",
        "writer = SummaryWriter()"
      ],
      "metadata": {
        "id": "qPdO1fQZlu5n"
      },
      "execution_count": 38,
      "outputs": []
    },
    {
      "cell_type": "code",
      "source": [
        "def normalize_answer(s):\n",
        "    '''\n",
        "    Performs a series of cleaning steps on the ground truth and \n",
        "    predicted answer.\n",
        "    '''\n",
        "    def remove_articles(text):\n",
        "        return re.sub(r'\\b(a|an|the)\\b', ' ', text)\n",
        "\n",
        "    def white_space_fix(text):\n",
        "        return ' '.join(text.split())\n",
        "\n",
        "    def remove_punc(text):\n",
        "        exclude = set(string.punctuation)\n",
        "        return ''.join(ch for ch in text if ch not in exclude)\n",
        "\n",
        "    def lower(text):\n",
        "        return text.lower()\n",
        "\n",
        "    return white_space_fix(remove_articles(remove_punc(lower(s))))\n",
        "\n",
        "\n",
        "def metric_max_over_ground_truths(metric_fn, prediction, ground_truths):\n",
        "    '''\n",
        "    Returns maximum value of metrics for predicition by model against\n",
        "    multiple ground truths.\n",
        "    \n",
        "    :param func metric_fn: can be 'exact_match_score' or 'f1_score'\n",
        "    :param str prediction: predicted answer span by the model\n",
        "    :param list ground_truths: list of ground truths against which\n",
        "                               metrics are calculated. Maximum values of \n",
        "                               metrics are chosen.\n",
        "                            \n",
        "    \n",
        "    '''\n",
        "    scores_for_ground_truths = []\n",
        "    for ground_truth in ground_truths:\n",
        "        score = metric_fn(prediction, ground_truth)\n",
        "        scores_for_ground_truths.append(score)\n",
        "        \n",
        "    return max(scores_for_ground_truths)\n",
        "\n",
        "\n",
        "def f1_score(prediction, ground_truth):\n",
        "    '''\n",
        "    Returns f1 score of two strings.\n",
        "    '''\n",
        "    prediction_tokens = normalize_answer(prediction).split()\n",
        "    ground_truth_tokens = normalize_answer(ground_truth).split()\n",
        "    common = Counter(prediction_tokens) & Counter(ground_truth_tokens)\n",
        "    num_same = sum(common.values())\n",
        "    if num_same == 0:\n",
        "        return 0\n",
        "    precision = 1.0 * num_same / len(prediction_tokens)\n",
        "    recall = 1.0 * num_same / len(ground_truth_tokens)\n",
        "    f1 = (2 * precision * recall) / (precision + recall)\n",
        "    return f1\n",
        "\n",
        "\n",
        "def exact_match_score(prediction, ground_truth):\n",
        "    '''\n",
        "    Returns exact_match_score of two strings.\n",
        "    '''\n",
        "    return (normalize_answer(prediction) == normalize_answer(ground_truth))\n",
        "\n",
        "\n",
        "def epoch_time(start_time, end_time):\n",
        "    '''\n",
        "    Helper function to record epoch time.\n",
        "    '''\n",
        "    elapsed_time = end_time - start_time\n",
        "    elapsed_mins = int(elapsed_time / 60)\n",
        "    elapsed_secs = int(elapsed_time - (elapsed_mins * 60))\n",
        "    return elapsed_mins, elapsed_secs"
      ],
      "metadata": {
        "id": "0YJbP0xemHD3"
      },
      "execution_count": 39,
      "outputs": []
    },
    {
      "cell_type": "code",
      "source": [
        "def evaluate(predictions):\n",
        "    '''\n",
        "    Gets a dictionary of predictions with question_id as key\n",
        "    and prediction as value. The validation dataset has multiple \n",
        "    answers for a single question. Hence we compare our prediction\n",
        "    with all the answers and choose the one that gives us\n",
        "    the maximum metric (em or f1). \n",
        "    This method first parses the JSON file, gets all the answers\n",
        "    for a given id and then passes the list of answers and the \n",
        "    predictions to calculate em, f1.\n",
        "    \n",
        "    \n",
        "    :param dict predictions\n",
        "    Returns\n",
        "    : exact_match: 1 if the prediction and ground truth \n",
        "      match exactly, 0 otherwise.\n",
        "    : f1_score: \n",
        "    '''\n",
        "    with open('/content/drive/MyDrive/NLP_hackathon/Squad_Data/squad_dev.json','r',encoding='utf-8') as f:\n",
        "        dataset = json.load(f)\n",
        "        \n",
        "    dataset = dataset['data']\n",
        "    f1 = exact_match = total = 0\n",
        "    for article in dataset:\n",
        "        for paragraph in article['paragraphs']:\n",
        "            for qa in paragraph['qas']:\n",
        "                total += 1\n",
        "                if qa['id'] not in predictions:\n",
        "                    continue\n",
        "                \n",
        "                ground_truths = list(map(lambda x: x['text'], qa['answers']))\n",
        "                \n",
        "                prediction = predictions[qa['id']]\n",
        "                \n",
        "                exact_match += metric_max_over_ground_truths(\n",
        "                    exact_match_score, prediction, ground_truths)\n",
        "                \n",
        "                f1 += metric_max_over_ground_truths(\n",
        "                    f1_score, prediction, ground_truths)\n",
        "                \n",
        "    \n",
        "    exact_match = 100.0 * exact_match / total\n",
        "    f1 = 100.0 * f1 / total\n",
        "    \n",
        "    return exact_match, f1"
      ],
      "metadata": {
        "id": "xgzLwFaTl8Uh"
      },
      "execution_count": 40,
      "outputs": []
    },
    {
      "cell_type": "code",
      "source": [],
      "metadata": {
        "id": "HkSXLLX3l8W1"
      },
      "execution_count": null,
      "outputs": []
    },
    {
      "cell_type": "code",
      "source": [],
      "metadata": {
        "id": "kV9ajutTl8cS"
      },
      "execution_count": null,
      "outputs": []
    },
    {
      "cell_type": "code",
      "source": [
        "def train(model, train_dataset):\n",
        "    print(\"Starting training ........\")\n",
        "   \n",
        "\n",
        "    train_loss = 0.\n",
        "    batch_count = 0\n",
        "    model.train()\n",
        "    for batch in train_dataset:\n",
        "        \n",
        "        optimizer.zero_grad()\n",
        "    \n",
        "        if batch_count % 500 == 0:\n",
        "            print(f\"Starting batch: {batch_count}\")\n",
        "        batch_count += 1\n",
        "        \n",
        "        context, question, char_ctx, char_ques, label, ctx_text, ans, ids = batch\n",
        "\n",
        "        context, question, char_ctx, char_ques, label = context.to(device), question.to(device),\\\n",
        "                                   char_ctx.to(device), char_ques.to(device), label.to(device)\n",
        "\n",
        "\n",
        "        preds = model(context, question, char_ctx, char_ques)\n",
        "\n",
        "        start_pred, end_pred = preds\n",
        "\n",
        "        s_idx, e_idx = label[:,0], label[:,1]\n",
        "\n",
        "        loss = F.cross_entropy(start_pred, s_idx) + F.cross_entropy(end_pred, e_idx)\n",
        "\n",
        "        loss.backward()\n",
        "        \n",
        "        # plot_grad_flow(model.named_parameters())\n",
        "        \n",
        "        for name, param in model.named_parameters():\n",
        "            if(param.requires_grad) and (\"bias\" not in name):\n",
        "                writer.add_histogram(name+'_grad',param.grad.abs().mean())\n",
        "    \n",
        "\n",
        "        optimizer.step()\n",
        "\n",
        "        train_loss += loss.item()\n",
        "\n",
        "    return train_loss/len(train_dataset)"
      ],
      "metadata": {
        "id": "P-sKYnxRlTvC"
      },
      "execution_count": 41,
      "outputs": []
    },
    {
      "cell_type": "code",
      "source": [
        "def valid(model, valid_dataset):\n",
        "    \n",
        "    print(\"Starting validation .........\")\n",
        "   \n",
        "    valid_loss = 0.\n",
        "\n",
        "    batch_count = 0\n",
        "    \n",
        "    f1, em = 0., 0.\n",
        "    \n",
        "    model.eval()\n",
        "        \n",
        "   \n",
        "    predictions = {}\n",
        "    \n",
        "    for batch in valid_dataset:\n",
        "\n",
        "        if batch_count % 500 == 0:\n",
        "            print(f\"Starting batch {batch_count}\")\n",
        "        batch_count += 1\n",
        "\n",
        "        context, question, char_ctx, char_ques, label, ctx, answers, ids = batch\n",
        "\n",
        "        context, question, char_ctx, char_ques, label = context.to(device), question.to(device),\\\n",
        "                                   char_ctx.to(device), char_ques.to(device), label.to(device)\n",
        "        \n",
        "       \n",
        "\n",
        "        \n",
        "        with torch.no_grad():\n",
        "            \n",
        "            s_idx, e_idx = label[:,0], label[:,1]\n",
        "\n",
        "            preds = model(context, question, char_ctx, char_ques)\n",
        "\n",
        "            p1, p2 = preds\n",
        "\n",
        "            \n",
        "            loss = F.cross_entropy(p1, s_idx) + F.cross_entropy(p2, e_idx)\n",
        "\n",
        "            valid_loss += loss.item()\n",
        "\n",
        "            batch_size, c_len = p1.size()\n",
        "            ls = nn.LogSoftmax(dim=1)\n",
        "            mask = (torch.ones(c_len, c_len) * float('-inf')).to(device).tril(-1).unsqueeze(0).expand(batch_size, -1, -1)\n",
        "            score = (ls(p1).unsqueeze(2) + ls(p2).unsqueeze(1)) + mask\n",
        "            score, s_idx = score.max(dim=1)\n",
        "            score, e_idx = score.max(dim=1)\n",
        "            s_idx = torch.gather(s_idx, 1, e_idx.view(-1, 1)).squeeze()\n",
        "            \n",
        "           \n",
        "            for i in range(batch_size):\n",
        "                id = ids[i]\n",
        "                pred = context[i][s_idx[i]:e_idx[i]+1]\n",
        "                pred = ' '.join([idx2word[idx.item()] for idx in pred])\n",
        "                predictions[id] = pred\n",
        "            \n",
        "\n",
        "    \n",
        "    em, f1 = evaluate(predictions)\n",
        "    return valid_loss/len(valid_dataset), em, f1\n"
      ],
      "metadata": {
        "id": "sOBvf3ZzlTxZ"
      },
      "execution_count": 42,
      "outputs": []
    },
    {
      "cell_type": "code",
      "source": [
        "train_losses = []\n",
        "valid_losses = []\n",
        "ems = []\n",
        "f1s = []\n",
        "epochs = 5\n",
        "for epoch in range(epochs):\n",
        "    print(f\"Epoch {epoch+1}\")\n",
        "    start_time = time.time()\n",
        "    \n",
        "    train_loss = train(model, train_dataset)\n",
        "    valid_loss, em, f1 = valid(model, valid_dataset)\n",
        "    \n",
        "    writer.add_scalar('train_loss', train_loss, epoch)\n",
        "    writer.add_scalar('valid_loss', valid_loss, epoch)\n",
        "    \n",
        "    \n",
        "    for name, param in model.named_parameters():\n",
        "        writer.add_histogram(name, param, epoch)\n",
        "    \n",
        "    torch.save({\n",
        "            'epoch': epoch,\n",
        "            'model_state_dict': model.state_dict(),\n",
        "            'optimizer_state_dict': optimizer.state_dict(),\n",
        "            'loss': valid_loss,\n",
        "            'em':em,\n",
        "            'f1':f1,\n",
        "            }, 'bidaf_run4_{}.pth'.format(epoch))\n",
        "    \n",
        "    \n",
        "    end_time = time.time()\n",
        "    \n",
        "    epoch_mins, epoch_secs = epoch_time(start_time, end_time)\n",
        "    \n",
        "    train_losses.append(train_loss)\n",
        "    valid_losses.append(valid_loss)\n",
        "    ems.append(em)\n",
        "    f1s.append(f1)\n",
        "\n",
        "    print(f\"Epoch train loss : {train_loss}| Time: {epoch_mins}m {epoch_secs}s\")\n",
        "    print(f\"Epoch valid loss: {valid_loss}\")\n",
        "    print(f\"Epoch EM: {em}\")\n",
        "    print(f\"Epoch F1: {f1}\")\n",
        "    print(\"====================================================================================\")"
      ],
      "metadata": {
        "colab": {
          "base_uri": "https://localhost:8080/",
          "height": 1000
        },
        "id": "HDcWdfihlDMt",
        "outputId": "ed5c9bdd-838f-4b2f-a918-1ebcdd8c4af7"
      },
      "execution_count": 43,
      "outputs": [
        {
          "output_type": "stream",
          "name": "stdout",
          "text": [
            "Epoch 1\n",
            "Starting training ........\n",
            "Starting batch: 0\n",
            "Starting batch: 500\n",
            "Starting batch: 1000\n",
            "Starting batch: 1500\n",
            "Starting batch: 2000\n",
            "Starting batch: 2500\n",
            "Starting batch: 3000\n",
            "Starting batch: 3500\n",
            "Starting batch: 4000\n",
            "Starting batch: 4500\n",
            "Starting batch: 5000\n",
            "Starting validation .........\n",
            "Starting batch 0\n",
            "Starting batch 500\n",
            "Starting batch 1000\n",
            "Starting batch 1500\n",
            "Starting batch 2000\n",
            "Epoch train loss : 5.309489724864023| Time: 76m 10s\n",
            "Epoch valid loss: 4.12660537358493\n",
            "Epoch EM: 45.01419110690634\n",
            "Epoch F1: 58.20978272230307\n",
            "====================================================================================\n",
            "Epoch 2\n",
            "Starting training ........\n",
            "Starting batch: 0\n",
            "Starting batch: 500\n",
            "Starting batch: 1000\n",
            "Starting batch: 1500\n",
            "Starting batch: 2000\n",
            "Starting batch: 2500\n",
            "Starting batch: 3000\n",
            "Starting batch: 3500\n",
            "Starting batch: 4000\n",
            "Starting batch: 4500\n"
          ]
        },
        {
          "output_type": "error",
          "ename": "OutOfMemoryError",
          "evalue": "ignored",
          "traceback": [
            "\u001b[0;31m---------------------------------------------------------------------------\u001b[0m",
            "\u001b[0;31mOutOfMemoryError\u001b[0m                          Traceback (most recent call last)",
            "\u001b[0;32m<ipython-input-43-f84cb4ca7867>\u001b[0m in \u001b[0;36m<module>\u001b[0;34m\u001b[0m\n\u001b[1;32m      8\u001b[0m     \u001b[0mstart_time\u001b[0m \u001b[0;34m=\u001b[0m \u001b[0mtime\u001b[0m\u001b[0;34m.\u001b[0m\u001b[0mtime\u001b[0m\u001b[0;34m(\u001b[0m\u001b[0;34m)\u001b[0m\u001b[0;34m\u001b[0m\u001b[0;34m\u001b[0m\u001b[0m\n\u001b[1;32m      9\u001b[0m \u001b[0;34m\u001b[0m\u001b[0m\n\u001b[0;32m---> 10\u001b[0;31m     \u001b[0mtrain_loss\u001b[0m \u001b[0;34m=\u001b[0m \u001b[0mtrain\u001b[0m\u001b[0;34m(\u001b[0m\u001b[0mmodel\u001b[0m\u001b[0;34m,\u001b[0m \u001b[0mtrain_dataset\u001b[0m\u001b[0;34m)\u001b[0m\u001b[0;34m\u001b[0m\u001b[0;34m\u001b[0m\u001b[0m\n\u001b[0m\u001b[1;32m     11\u001b[0m     \u001b[0mvalid_loss\u001b[0m\u001b[0;34m,\u001b[0m \u001b[0mem\u001b[0m\u001b[0;34m,\u001b[0m \u001b[0mf1\u001b[0m \u001b[0;34m=\u001b[0m \u001b[0mvalid\u001b[0m\u001b[0;34m(\u001b[0m\u001b[0mmodel\u001b[0m\u001b[0;34m,\u001b[0m \u001b[0mvalid_dataset\u001b[0m\u001b[0;34m)\u001b[0m\u001b[0;34m\u001b[0m\u001b[0;34m\u001b[0m\u001b[0m\n\u001b[1;32m     12\u001b[0m \u001b[0;34m\u001b[0m\u001b[0m\n",
            "\u001b[0;32m<ipython-input-41-351645452d35>\u001b[0m in \u001b[0;36mtrain\u001b[0;34m(model, train_dataset)\u001b[0m\n\u001b[1;32m     28\u001b[0m         \u001b[0mloss\u001b[0m \u001b[0;34m=\u001b[0m \u001b[0mF\u001b[0m\u001b[0;34m.\u001b[0m\u001b[0mcross_entropy\u001b[0m\u001b[0;34m(\u001b[0m\u001b[0mstart_pred\u001b[0m\u001b[0;34m,\u001b[0m \u001b[0ms_idx\u001b[0m\u001b[0;34m)\u001b[0m \u001b[0;34m+\u001b[0m \u001b[0mF\u001b[0m\u001b[0;34m.\u001b[0m\u001b[0mcross_entropy\u001b[0m\u001b[0;34m(\u001b[0m\u001b[0mend_pred\u001b[0m\u001b[0;34m,\u001b[0m \u001b[0me_idx\u001b[0m\u001b[0;34m)\u001b[0m\u001b[0;34m\u001b[0m\u001b[0;34m\u001b[0m\u001b[0m\n\u001b[1;32m     29\u001b[0m \u001b[0;34m\u001b[0m\u001b[0m\n\u001b[0;32m---> 30\u001b[0;31m         \u001b[0mloss\u001b[0m\u001b[0;34m.\u001b[0m\u001b[0mbackward\u001b[0m\u001b[0;34m(\u001b[0m\u001b[0;34m)\u001b[0m\u001b[0;34m\u001b[0m\u001b[0;34m\u001b[0m\u001b[0m\n\u001b[0m\u001b[1;32m     31\u001b[0m \u001b[0;34m\u001b[0m\u001b[0m\n\u001b[1;32m     32\u001b[0m         \u001b[0;31m# plot_grad_flow(model.named_parameters())\u001b[0m\u001b[0;34m\u001b[0m\u001b[0;34m\u001b[0m\u001b[0;34m\u001b[0m\u001b[0m\n",
            "\u001b[0;32m/usr/local/lib/python3.8/dist-packages/torch/_tensor.py\u001b[0m in \u001b[0;36mbackward\u001b[0;34m(self, gradient, retain_graph, create_graph, inputs)\u001b[0m\n\u001b[1;32m    486\u001b[0m                 \u001b[0minputs\u001b[0m\u001b[0;34m=\u001b[0m\u001b[0minputs\u001b[0m\u001b[0;34m,\u001b[0m\u001b[0;34m\u001b[0m\u001b[0;34m\u001b[0m\u001b[0m\n\u001b[1;32m    487\u001b[0m             )\n\u001b[0;32m--> 488\u001b[0;31m         torch.autograd.backward(\n\u001b[0m\u001b[1;32m    489\u001b[0m             \u001b[0mself\u001b[0m\u001b[0;34m,\u001b[0m \u001b[0mgradient\u001b[0m\u001b[0;34m,\u001b[0m \u001b[0mretain_graph\u001b[0m\u001b[0;34m,\u001b[0m \u001b[0mcreate_graph\u001b[0m\u001b[0;34m,\u001b[0m \u001b[0minputs\u001b[0m\u001b[0;34m=\u001b[0m\u001b[0minputs\u001b[0m\u001b[0;34m\u001b[0m\u001b[0;34m\u001b[0m\u001b[0m\n\u001b[1;32m    490\u001b[0m         )\n",
            "\u001b[0;32m/usr/local/lib/python3.8/dist-packages/torch/autograd/__init__.py\u001b[0m in \u001b[0;36mbackward\u001b[0;34m(tensors, grad_tensors, retain_graph, create_graph, grad_variables, inputs)\u001b[0m\n\u001b[1;32m    195\u001b[0m     \u001b[0;31m# some Python versions print out the first line of a multi-line function\u001b[0m\u001b[0;34m\u001b[0m\u001b[0;34m\u001b[0m\u001b[0;34m\u001b[0m\u001b[0m\n\u001b[1;32m    196\u001b[0m     \u001b[0;31m# calls in the traceback and some print out the last line\u001b[0m\u001b[0;34m\u001b[0m\u001b[0;34m\u001b[0m\u001b[0;34m\u001b[0m\u001b[0m\n\u001b[0;32m--> 197\u001b[0;31m     Variable._execution_engine.run_backward(  # Calls into the C++ engine to run the backward pass\n\u001b[0m\u001b[1;32m    198\u001b[0m         \u001b[0mtensors\u001b[0m\u001b[0;34m,\u001b[0m \u001b[0mgrad_tensors_\u001b[0m\u001b[0;34m,\u001b[0m \u001b[0mretain_graph\u001b[0m\u001b[0;34m,\u001b[0m \u001b[0mcreate_graph\u001b[0m\u001b[0;34m,\u001b[0m \u001b[0minputs\u001b[0m\u001b[0;34m,\u001b[0m\u001b[0;34m\u001b[0m\u001b[0;34m\u001b[0m\u001b[0m\n\u001b[1;32m    199\u001b[0m         allow_unreachable=True, accumulate_grad=True)  # Calls into the C++ engine to run the backward pass\n",
            "\u001b[0;31mOutOfMemoryError\u001b[0m: CUDA out of memory. Tried to allocate 3.04 GiB (GPU 0; 14.76 GiB total capacity; 6.51 GiB already allocated; 781.88 MiB free; 12.58 GiB reserved in total by PyTorch) If reserved memory is >> allocated memory try setting max_split_size_mb to avoid fragmentation.  See documentation for Memory Management and PYTORCH_CUDA_ALLOC_CONF"
          ]
        }
      ]
    }
  ]
}